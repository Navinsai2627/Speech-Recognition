{
 "cells": [
  {
   "cell_type": "code",
   "execution_count": 1,
   "id": "5a01900d-93bf-4e9b-806e-e4455256ea74",
   "metadata": {},
   "outputs": [],
   "source": [
    "import pyttsx3"
   ]
  },
  {
   "cell_type": "code",
   "execution_count": 2,
   "id": "9697c683-53d9-4561-b2f9-31b1bbc301f6",
   "metadata": {},
   "outputs": [],
   "source": [
    "import speech_recognition as sr"
   ]
  },
  {
   "cell_type": "code",
   "execution_count": 3,
   "id": "ad739568-ad52-42bc-a07c-0490272f8776",
   "metadata": {},
   "outputs": [],
   "source": [
    "import datetime"
   ]
  },
  {
   "cell_type": "code",
   "execution_count": 4,
   "id": "0a79496d-5517-4683-acff-c4385107a9b0",
   "metadata": {},
   "outputs": [],
   "source": [
    "import wikipedia"
   ]
  },
  {
   "cell_type": "code",
   "execution_count": 5,
   "id": "41d5d827-1184-4757-a5c2-3c2165633e0c",
   "metadata": {},
   "outputs": [],
   "source": [
    "import webbrowser"
   ]
  },
  {
   "cell_type": "code",
   "execution_count": 6,
   "id": "af896e16-efe9-477c-b768-56e8c51eba3b",
   "metadata": {},
   "outputs": [],
   "source": [
    "import os"
   ]
  },
  {
   "cell_type": "code",
   "execution_count": 7,
   "id": "1e74cc51-0e70-4176-beff-0e64fa8935bb",
   "metadata": {},
   "outputs": [],
   "source": [
    "import smtplib"
   ]
  },
  {
   "cell_type": "code",
   "execution_count": 8,
   "id": "f44e23b2-0955-4b09-9fab-936954e85959",
   "metadata": {},
   "outputs": [
    {
     "name": "stderr",
     "output_type": "stream",
     "text": [
      "Imported existing <module 'comtypes.gen' from 'C:\\\\Users\\\\ELCOT\\\\AppData\\\\Local\\\\Programs\\\\Python\\\\Python310\\\\lib\\\\site-packages\\\\comtypes\\\\gen\\\\__init__.py'>\n",
      "Using writeable comtypes cache directory: 'C:\\Users\\ELCOT\\AppData\\Local\\Programs\\Python\\Python310\\lib\\site-packages\\comtypes\\gen'\n"
     ]
    }
   ],
   "source": [
    "engine = pyttsx3.init('sapi5')\n",
    "voices = engine.getProperty('voices')\n",
    "engine.setProperty('voice',voices[1].id)"
   ]
  },
  {
   "cell_type": "code",
   "execution_count": 9,
   "id": "e86b4c94-40b0-411a-8283-b8844a1e4bc0",
   "metadata": {},
   "outputs": [],
   "source": [
    "def speak(audio):\n",
    "    engine.say(audio)\n",
    "    engine.runAndWait()"
   ]
  },
  {
   "cell_type": "code",
   "execution_count": 10,
   "id": "197c1394-e713-4a55-ae5f-c87b2c9edcf3",
   "metadata": {},
   "outputs": [],
   "source": [
    "def wishme():\n",
    "    hour= int(datetime.datetime.now().hour)\n",
    "    if hour>=0 and hour<=12:\n",
    "        speak(\"Good Morning Suseela\")\n",
    "    elif hour>=12 and hour< 18:\n",
    "        speak(\"Good Afternoon Suseela\")\n",
    "    else:\n",
    "        speak(\"Good Evening Suseela\")\n",
    "    speak(\"Let me know how can I help you?\")"
   ]
  },
  {
   "cell_type": "code",
   "execution_count": 11,
   "id": "d8b4016f-d175-493f-aa94-95519b8096fd",
   "metadata": {},
   "outputs": [],
   "source": [
    "def takecommand():\n",
    "    r = sr.Recognizer()\n",
    "    with sr.Microphone() as source:\n",
    "        print(\"Listening to You Suseela....\")\n",
    "        r.pause_threshold = 1\n",
    "        audio = r.listen(source)\n",
    "    try:\n",
    "        print(\"Recognizing your voice....\")\n",
    "        query = r.recognize_google(audio, language='en-in')\n",
    "        print(f\"My dear Suseela: {query}\\n\")\n",
    "    except Exception as e:\n",
    "        print(\"Suseela say that again please....\")\n",
    "        return \"None\"\n",
    "    return query"
   ]
  },
  {
   "cell_type": "code",
   "execution_count": 12,
   "id": "cfe59612-e2d1-4b1c-a621-76caa88207b6",
   "metadata": {},
   "outputs": [],
   "source": [
    "def sendEmail(to, content):\n",
    "    server = smptlib.SMTP('smtp.gmail.com',587)\n",
    "    server.ehlo()\n",
    "    server.starttls()\n",
    "    server.login('sainaveen2605@gmail.com','Navinsai@2602')\n",
    "    server.sendmail('sainaveen2605@gmail.com', to, content)\n",
    "    server.close()"
   ]
  },
  {
   "cell_type": "code",
   "execution_count": null,
   "id": "582c58ee-a701-44c4-9080-f2e1279b5667",
   "metadata": {},
   "outputs": [
    {
     "name": "stdout",
     "output_type": "stream",
     "text": [
      "Listening to You Suseela....\n"
     ]
    }
   ],
   "source": [
    "if __name__=='__main__':\n",
    "    wishme()\n",
    "    while True:\n",
    "        query = takecommand().lower()\n",
    "        if wikipedia in query:\n",
    "            speak('Searching Wikipedia....')\n",
    "            query = query.replace(\"Wikipeia\",\"\")\n",
    "            resuts = wikipedia.summary(query, sentences=2)\n",
    "            speak(\"According to wikipedia\")\n",
    "            print(results)\n",
    "            speak(results)\n",
    "        if 'open notepad' in query:\n",
    "            npath = \"C:\\\\Windows\\\\system32\\\\notepad.exe\"\n",
    "            os.startfile(npath)\n",
    "        elif 'open paint' in query:\n",
    "            npath = \"C:\\\\Windows\\\\system32\\\\mspaint.exe\"\n",
    "            os.startfile(npath)\n",
    "        elif 'open yotube' in query:\n",
    "            webbrowser.open('youtube.com')\n",
    "        elif 'open great learning academy' in query:\n",
    "            webbrowser.open(\"https://www.mygreatlearning.com/academy\")\n",
    "        elif 'open google' in query:\n",
    "            webbrowser.open(\"google.com\")\n",
    "        elif 'tell me the time' in query:\n",
    "            strTime=datetime.datetime.now().strftime(\"%H:%M:%S\")\n",
    "            speak(f\"Dear Suseela the time is {strTime}\")\n",
    "        elif 'open great learning youtube channel' in query:\n",
    "            webbrowser.open(\"https://www.youtube.com/c/GreatLearningOfficial\")\n",
    "        elif 'open academia' in query:\n",
    "            webbrowser.open(\"https://academia.srmist.edu.in/#WELCOME\")\n",
    "        elif 'email to other friend' in query:\n",
    "            try:\n",
    "                speak(\"What should I send Master Naveen ?\")\n",
    "                content=takecommand()\n",
    "                to =\"sinistersmile2605@gmail.com\"\n",
    "                sendEmail(to, content)\n",
    "                speak(\"Master your email has sent successfully\")\n",
    "            except Exception as e:\n",
    "                print(e)\n",
    "                speak(\"Master Naveen.... I am unable to send the email.... Please address the error\")\n",
    "        \n",
    "        "
   ]
  },
  {
   "cell_type": "code",
   "execution_count": null,
   "id": "9ea522aa-d425-468f-8c38-ac6f3b20a2f3",
   "metadata": {},
   "outputs": [],
   "source": []
  },
  {
   "cell_type": "code",
   "execution_count": null,
   "id": "1340d192-508c-4877-ad12-bc110ab9e703",
   "metadata": {},
   "outputs": [],
   "source": []
  },
  {
   "cell_type": "code",
   "execution_count": null,
   "id": "5a58ed7a-8c7d-480f-912d-30504591e9d0",
   "metadata": {},
   "outputs": [],
   "source": []
  },
  {
   "cell_type": "code",
   "execution_count": null,
   "id": "82a16a46-6820-4903-b8e3-3aad9def3763",
   "metadata": {},
   "outputs": [],
   "source": []
  }
 ],
 "metadata": {
  "kernelspec": {
   "display_name": "Python 3 (ipykernel)",
   "language": "python",
   "name": "python3"
  },
  "language_info": {
   "codemirror_mode": {
    "name": "ipython",
    "version": 3
   },
   "file_extension": ".py",
   "mimetype": "text/x-python",
   "name": "python",
   "nbconvert_exporter": "python",
   "pygments_lexer": "ipython3",
   "version": "3.10.0"
  }
 },
 "nbformat": 4,
 "nbformat_minor": 5
}
